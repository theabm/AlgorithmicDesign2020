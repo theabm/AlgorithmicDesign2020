{
 "metadata": {
  "language_info": {
   "codemirror_mode": {
    "name": "ipython",
    "version": 3
   },
   "file_extension": ".py",
   "mimetype": "text/x-python",
   "name": "python",
   "nbconvert_exporter": "python",
   "pygments_lexer": "ipython3",
   "version": "3.9.2"
  },
  "orig_nbformat": 2,
  "kernelspec": {
   "name": "python392jvsc74a57bd0468f25ad0239460415b7e6b7483d5c8f7213894121f6fb96c4cb6ef93fffe534",
   "display_name": "Python 3.9.2 64-bit"
  },
  "metadata": {
   "interpreter": {
    "hash": "468f25ad0239460415b7e6b7483d5c8f7213894121f6fb96c4cb6ef93fffe534"
   }
  }
 },
 "nbformat": 4,
 "nbformat_minor": 2,
 "cells": [
  {
   "source": [
    "2. Consider the contraction hierarchies presented during the course. Assume\n",
    "to deal with graphs that can be fully represented in the memory of your\n",
    "computer. Implement:\n",
    "\n",
    "* (a) an algorithm to add the shortcuts to a graph;\n",
    "* (B) a bidirectional version of Dijkstra algorithm that can operate on the\n",
    "graphs decorated by the algorithm at Point 2a."
   ],
   "cell_type": "markdown",
   "metadata": {}
  },
  {
   "source": [
    "We import some necessary libraries which will aid us in better implementing the algorithms."
   ],
   "cell_type": "markdown",
   "metadata": {}
  },
  {
   "cell_type": "code",
   "execution_count": 1,
   "metadata": {},
   "outputs": [],
   "source": [
    "from binheap import binheap\n",
    "from math import inf\n",
    "from collections import defaultdict\n",
    "from copy import deepcopy"
   ]
  },
  {
   "source": [
    "This algorithm demands a richer structure in terms of classes since one must be able to remove nodes, add shortcuts, and reverse a graph in order to go \"backwards\" in the bidirectional version of Dijkstra. For this reason, I re-implemented the vertex-graph classes, adding also an edge class. A vertex has an id, the key, the heap index, the importance, and neighboring vertices. Furthemore, in order to add shortcuts one must keep track of the vertices for which a specific vertex is a tail of the edge and those for which it is a head of the edge, this is done by **src** and **dest** attributes respectively.\n",
    "\n",
    "It is important to note that not all of the functionalities of the classes are strictly necessary but I added them for completeness. \n"
   ],
   "cell_type": "markdown",
   "metadata": {}
  },
  {
   "cell_type": "code",
   "execution_count": 2,
   "metadata": {},
   "outputs": [],
   "source": [
    "class Vertex:\n",
    "    def __init__(self, name, imp = 0, key = inf):\n",
    "        self.id = name\n",
    "        self.key = key\n",
    "        self.heap_idx = None\n",
    "        self.imp = imp\n",
    "        self.visited = False\n",
    "        self.neighbors = {}\n",
    "        self.src = {}        #nodes for which vertex is tail (thus these are the heads of the vertex)\n",
    "        self.dest = {}       #nodes for which vertex is head (thus these are the tails of the vertex)\n",
    "    \n",
    "    def __repr__(self):\n",
    "        return str(self.id)\n",
    "\n",
    "    ############################## UTILITY FUNCTIONS ###################################\n",
    "\n",
    "\n",
    "    def add_neighbor(self, node, weight = 0): #add an edge between two vertices\n",
    "        '''Input: destination Vertex and weight of corresponding edge. \n",
    "        Stores an edge'''\n",
    "        self.neighbors[node.id]=Edge(self, node, weight)\n",
    "        self.src[node.id] = node\n",
    "        node.dest[self.id] = self\n",
    "        \n",
    "    def delete_neighbor(self, node):\n",
    "        '''Delete edge between a node and its neighbor'''\n",
    "        self.neighbors.pop(node.id, None)\n",
    "        self.src.pop(node.id, None)\n",
    "        self.dest.pop(node.id, None)\n",
    "\n",
    "    def get_tails(self):\n",
    "        '''returns tails of a vertex'''\n",
    "        return self.dest.values()\n",
    "\n",
    "    def get_heads(self):\n",
    "        '''returns head of a vertex'''\n",
    "        return self.src.values()\n",
    "\n",
    "    def get_neighbor(self, node): #returns an edge\n",
    "        '''Input: destination Vertex.\n",
    "        Output: Edge() between both vertices.'''\n",
    "        if self.neighbors.get(node.id) is None:\n",
    "            return None\n",
    "        else: \n",
    "            return self.neighbors[node.id]\n",
    "\n",
    "    def get_neighbors(self):\n",
    "        '''returns all edges of a vertex'''\n",
    "        return self.neighbors.values() #returns all edges\n",
    "\n",
    "    def get_neighbor_keys(self):\n",
    "        '''returns keys of neighbors'''\n",
    "        return self.neighbors.keys()\n",
    "    \n",
    "    def reverse_edge(self, node):\n",
    "        '''reverse an edge between self and a node by creating a new reversed edge'''\n",
    "        node.neighbors[self.id] = self.neighbors[node.id].create_reversed() \n",
    "        self.neighbors.pop(node.id) #eliminiate original edge\n",
    "\n",
    "        self.src.pop(node.id)\n",
    "        node.dest.pop(self.id)\n",
    "\n",
    "        self.dest[node.id] = node\n",
    "        node.src[self.id] = self\n",
    "\n",
    "\n",
    "    ############################## OPERATOR OVERLOADING ##################################\n",
    "\n",
    "    def impcomp(self, other):\n",
    "        \"\"\"Compares importances between two nodes.\"\"\"\n",
    "        return self.imp <= other.imp \n",
    "\n",
    "\n",
    "    ############################# GETTERS AND SETTERS ###################################\n",
    "\n",
    "\n",
    "    def get_id(self):\n",
    "        return self.id\n",
    "\n",
    "    def set_key(self, key):\n",
    "        self.key = key\n",
    "\n",
    "    def get_key(self):\n",
    "        return self.key\n",
    "\n",
    "    def set_imp(self, imp):\n",
    "        self.imp = imp\n",
    "\n",
    "    def get_imp(self):\n",
    "        return self.imp\n",
    "\n",
    "    def set_visited(self):\n",
    "        self.visited = True\n",
    "\n",
    "    def get_visited(self):\n",
    "        self.visited\n"
   ]
  },
  {
   "cell_type": "code",
   "execution_count": 3,
   "metadata": {},
   "outputs": [],
   "source": [
    "class Edge:\n",
    "    def __init__(self, src:Vertex, dest:Vertex, weight=0):\n",
    "        self.weight = weight\n",
    "        self.src = src\n",
    "        self.dest = dest\n",
    "        \n",
    "    def __repr__(self):\n",
    "        return 'EDGE ' + str(self.src.get_id()) + '->' + str(self.dest.get_id()) + ' Weight ' + str(self.weight)\n",
    "    \n",
    "    ################################  UTILITY FUNCTIONS   ##################################\n",
    "\n",
    "    def create_reversed(self):                              #creates reversed copy and returns it\n",
    "        return Edge(self.dest,self.src, self.weight)\n",
    "\n",
    "    ################################# GETTERS AND SETTERS ###################################\n",
    "    def get_src(self):\n",
    "        return self.src\n",
    "    def get_dest(self):\n",
    "        return self.dest\n",
    "    def set_weight(self, weight):\n",
    "        self.weight = weight\n",
    "    def get_weight(self):\n",
    "        return self.weight\n",
    "    def get_src_imp(self):\n",
    "        return self.src.get_imp()\n",
    "    def get_src_key(self):\n",
    "        return self.src.get_key()\n",
    "    def set_src_key(self, key):\n",
    "        self.src.set_key(key)\n",
    "    def get_dest_imp(self):\n",
    "        return self.dest.get_imp()\n",
    "    def get_dest_key(self):\n",
    "        return self.dest.get_key()\n",
    "    def set_dest_key(self, key):\n",
    "        self.dest.set_key(key)\n"
   ]
  },
  {
   "source": [
    "Below we implement the graph class. It is similar to the one in precedence except it adds neighbors to a vertex directly as opposed to adding the tuple (destination, weight) as before. \n",
    "\n",
    "Furthermore, point (a) is implemented in the methods **remove_node()** and **add_shortcut()**. The first method adds shortcuts and actually removes the node from the graph structure while the second method simply adds the necessary shortcuts to the graph without actually removing the node. The first method can be used to build the overlay graphs we studied in class (in this case the method modifies the graph itself but it can be easily modified to return a graph instead) while the second method, if iterated over all the edges, can be used to build the contraction hierarchy with all edges present (including all shortcuts)."
   ],
   "cell_type": "markdown",
   "metadata": {}
  },
  {
   "cell_type": "code",
   "execution_count": 4,
   "metadata": {},
   "outputs": [],
   "source": [
    "class Graph: #collection of edges and vertexes\n",
    "    def __init__(self):\n",
    "        self.vertex = {}\n",
    "\n",
    "    def __repr__(self):\n",
    "        st = ''\n",
    "        for v in self.vertex.values():\n",
    "            hd = str(v)\n",
    "            level = '\\t'.join(f'{n}' for n in v.get_neighbors())\n",
    "            st += hd + ': ' + level + f'\\n'\n",
    "        return st\n",
    "\n",
    "    def add_vertex(self, node, imp=0): #insert vertex into graph with given importance\n",
    "        vert = Vertex(node, imp) #creates vertex and appends it to the dictionary\n",
    "        self.vertex[vert.id] = vert\n",
    "\n",
    "    def get_vertex(self, node):\n",
    "        '''get vertex from graph'''\n",
    "        if isinstance(node, Vertex):\n",
    "            return self.vertex[node.id]\n",
    "        else:\n",
    "            return self.vertex[node]\n",
    "\n",
    "    def get_vertices(self):\n",
    "        '''get all vertices'''\n",
    "        return self.vertex.values()\n",
    "\n",
    "\n",
    "    def add_edge(self, src, dest, weight=0, imp1 = 0, imp2 = 0):\n",
    "        '''add edge between src and dest with specified weight and importances if the vertices have not been created yet'''\n",
    "        if src not in self.vertex.keys():\n",
    "            self.add_vertex(src, imp1)\n",
    "        if dest not in self.vertex.keys():\n",
    "            self.add_vertex(dest, imp2)\n",
    "        self.vertex[src].add_neighbor(self.vertex[dest], weight)\n",
    "\n",
    "    def get_edges(self, node):\n",
    "        '''get edges of a vertex node'''\n",
    "        if isinstance(node, Vertex):\n",
    "            return self.vertex[node.id].get_neighbors()\n",
    "        else:\n",
    "            return self.vertex[node].get_neighbors()\n",
    "\n",
    "    def get_alledges(self):\n",
    "        '''get all edges of the graph'''\n",
    "        edges=[]\n",
    "        for v in self.get_vertices():\n",
    "            edges.extend(list(self.vertex[v.id].get_neighbors()))\n",
    "        return edges\n",
    "\n",
    "    def get_edge(self, node1:Vertex, node2:Vertex):\n",
    "        '''get a specific edge between two vertices'''\n",
    "        return self.vertex[node1.id].get_neighbor(node2)\n",
    "\n",
    "    def reverse_edge(self, node1: Vertex, node2: Vertex):\n",
    "        '''reverse a specific edge between two vertices'''\n",
    "        self.vertex[node1.id].reverse_edge(node2)\n",
    "    \n",
    "    def remove_node(self, node: Vertex):\n",
    "        '''remove node and add shortcuts if needed'''\n",
    "        tails = list(self.get_vertex(node).get_tails())\n",
    "        heads = list(self.get_vertex(node).get_heads())\n",
    "        if tails and heads:\n",
    "            for src in tails:\n",
    "                for dest in heads:\n",
    "                    if src is not dest:\n",
    "                        n_W = self.get_edge(src, node).get_weight() + self.get_edge(node, dest).get_weight()\n",
    "                        if self.get_edge(src, dest) is None:\n",
    "                            self.add_edge(src.get_id(), dest.get_id(), n_W)\n",
    "                            \n",
    "                        else: \n",
    "                            o_W = self.get_edge(src, dest).get_weight()\n",
    "                            W = min(n_W,o_W)\n",
    "                            self.get_edge(src, dest).set_weight(W)\n",
    "                        self.get_vertex(dest).delete_neighbor(node)\n",
    "\n",
    "                self.get_vertex(src).delete_neighbor(node)\n",
    "        self.vertex.pop(node.id)\n",
    "         \n",
    "    def add_shortcut(self, node: Vertex): \n",
    "        '''add shortcut to the graph as if you removed the node without actually removing it'''\n",
    "        tails = list(self.get_vertex(node).get_tails())\n",
    "        heads = list(self.get_vertex(node).get_heads())\n",
    "        if tails and heads:\n",
    "            for src in tails:\n",
    "                for dest in heads:\n",
    "                    if src is not dest:\n",
    "                        n_W = self.get_edge(src, node).get_weight() + self.get_edge(node, dest).get_weight()\n",
    "                        if self.get_edge(src, dest) is None:\n",
    "                            self.add_edge(src.get_id(), dest.get_id(), n_W)   \n",
    "                        else: \n",
    "                            o_W = self.get_edge(src, dest).get_weight()\n",
    "                            W = min(n_W,o_W)\n",
    "                            self.get_edge(src, dest).set_weight(W)\n"
   ]
  },
  {
   "source": [
    "To implement bidirectional Dijsktra we also need to be able to reverse a graph so that we can traverse edges backwards from the destination. This is done below."
   ],
   "cell_type": "markdown",
   "metadata": {}
  },
  {
   "cell_type": "code",
   "execution_count": 5,
   "metadata": {},
   "outputs": [],
   "source": [
    "def reverse_graph(d):\n",
    "    '''create a reversed copy of the graph'''\n",
    "    g = Graph()\n",
    "    edges = deepcopy(d.get_alledges())\n",
    "    for edge in edges:\n",
    "        src = edge.get_src()\n",
    "        dest = edge.get_dest()\n",
    "        g.add_edge(dest.id, src.id, edge.get_weight(), dest.imp, src.imp)\n",
    "    return g"
   ]
  },
  {
   "source": [
    "Finally, we implement a function which takes a graph and adds all shortcuts. In this way we construct the contraction hierarchy which is necessary for the bidirectional algorithm.\n",
    "\n",
    "Furthermore, we also implement a **PREP()** function which acts a preprocessing step for the graph. In other words, given a graph, we build the contraction hierarchy and then build the reverse graph. In fact, the contraction hierarchy and the reversed graph will be some of the inputs for the bidirectional Dijkstra's algorithm. "
   ],
   "cell_type": "markdown",
   "metadata": {}
  },
  {
   "cell_type": "code",
   "execution_count": 6,
   "metadata": {},
   "outputs": [],
   "source": [
    "def CH(d):   #adds all shortcuts\n",
    "    '''adds all shortcuts to a graph'''\n",
    "    g = deepcopy(d)\n",
    "    edges = g.get_alledges()\n",
    "    for e in edges:\n",
    "        if e.get_dest().impcomp(e.get_src()):\n",
    "            g.add_shortcut(g.get_vertex(e.get_dest().id))\n",
    "    return g\n",
    "    "
   ]
  },
  {
   "cell_type": "code",
   "execution_count": 7,
   "metadata": {},
   "outputs": [],
   "source": [
    "def PREP(g):\n",
    "    '''takes a graph, adds all shortcuts and creates reversed copy\n",
    "    returns: contraction hierarchy and reversed graph'''\n",
    "    d = CH(g)\n",
    "    drev = reverse_graph(d)\n",
    "    return d, drev"
   ]
  },
  {
   "source": [
    "Below we implement the bidirectional version of Dijkstras algorithm. The inputs are the contraction hierarchy, the reversed graph, the source vertex and the destination vertex."
   ],
   "cell_type": "markdown",
   "metadata": {}
  },
  {
   "cell_type": "code",
   "execution_count": 8,
   "metadata": {},
   "outputs": [],
   "source": [
    "def bidir_dijkstra(g, grev, src: Vertex, dest: Vertex):\n",
    "    '''bidirectional dijkstra'''\n",
    "    dist = {}\n",
    "    distrev = {}\n",
    "\n",
    "    g.get_vertex(src).set_key(0)     #set key to zero for src\n",
    "    grev.get_vertex(dest).set_key(0) #set key to zero for dest\n",
    "\n",
    "    BH = binheap(list(g.get_vertices())) #create heaps\n",
    "    BHrev = binheap(list(grev.get_vertices()))\n",
    "   \n",
    "    for num, node in enumerate(BH._A): #identify heap index with the node attribute to keep track.\n",
    "        node.heap_idx = num\n",
    "\n",
    "    for num, node in enumerate(BHrev._A):\n",
    "        node.heap_idx = num\n",
    "\n",
    "\n",
    "    while not set(dist.keys()).intersection(set(distrev.keys())): #while intersection is empty do:\n",
    "        \n",
    "        nf = BH.remove_minimum()\n",
    "        nb = BHrev.remove_minimum()\n",
    "        #forward step\n",
    "        if nf.get_key() is not inf:\n",
    "            nf.set_visited()\n",
    " \n",
    "            dist[nf.id]=nf.get_key()\n",
    "\n",
    "            for edge in list(g.get_edges(nf.id)):\n",
    "                if edge.get_dest().get_visited():\n",
    "                    continue\n",
    "                # only update key if the dest node is more important \n",
    "                # and if they key update is less than what it was.\n",
    "                # The last part is exactly as the previous case\n",
    "                if nf.impcomp(edge.get_dest()) and dist[nf.id]+edge.get_weight() < edge.get_dest_key() :\n",
    "                    BH.decrease_key(edge.get_dest().heap_idx, dist[nf.id]+edge.get_weight()) \n",
    "        #backward step\n",
    "        if nb.get_key() is not inf:\n",
    "            nb.set_visited() \n",
    "            distrev[nb.id]=nb.get_key()\n",
    "\n",
    "            for edge in list(grev.get_edges(nb.id)):\n",
    "                if edge.get_dest().get_visited():\n",
    "                    continue\n",
    "                if nb.impcomp(edge.get_dest()) and distrev[nb.id]+edge.get_weight() < edge.get_dest_key():\n",
    "                    BHrev.decrease_key(edge.get_dest().heap_idx, distrev[nb.id]+edge.get_weight())\n",
    "    #find the intersection\n",
    "    node = set(dist.keys()).intersection(set(distrev.keys()))\n",
    "    for i in node:\n",
    "        w = dist[i] + distrev[i]\n",
    "    return w, dist, distrev #return the shortest distance and the dictionary of finalized nodes\n"
   ]
  },
  {
   "source": [
    "We test the implementation on a simple graph according to the following figure."
   ],
   "cell_type": "markdown",
   "metadata": {}
  },
  {
   "source": [
    "![Title](./es44.png)"
   ],
   "cell_type": "markdown",
   "metadata": {}
  },
  {
   "source": [
    "The shortest path from **a** to **h** is clearly 12. However, since we use the contraction hierarchy and only move to nodes of higher importance, during the dijkstra algorithm we can \"skip\" looking over **b** and move directly to **c** and skip looking at **d** and move directly to **e**. Similarly, in the backward pass we save time by not looking at some nodes and get to **e** faster, which is where the two paths meet. At this point we simply sum up the distances gathered so far and return the result. \n",
    "\n",
    "Below we implement the graph and inspect its correcteness:"
   ],
   "cell_type": "markdown",
   "metadata": {}
  },
  {
   "cell_type": "code",
   "execution_count": 9,
   "metadata": {},
   "outputs": [],
   "source": [
    "g = Graph()\n",
    "g.add_vertex('a', 2)\n",
    "g.add_vertex('b', 1)\n",
    "g.add_vertex('c', 4)\n",
    "g.add_vertex('d', 3)\n",
    "g.add_vertex('e', 5)\n",
    "g.add_vertex('f', 2.5)\n",
    "g.add_vertex('g', 1.2)\n",
    "g.add_vertex('h', 2.7)\n",
    "\n",
    "g.add_edge('a', 'b', 1)\n",
    "g.add_edge('b', 'c', 2)\n",
    "g.add_edge('c', 'd', 1)\n",
    "g.add_edge('d', 'e', 3)\n",
    "g.add_edge('e', 'f', 2)\n",
    "g.add_edge('f', 'g', 1)\n",
    "g.add_edge('g', 'h', 2)"
   ]
  },
  {
   "cell_type": "code",
   "execution_count": 10,
   "metadata": {},
   "outputs": [
    {
     "output_type": "execute_result",
     "data": {
      "text/plain": [
       "a: EDGE a->b Weight 1\n",
       "b: EDGE b->c Weight 2\n",
       "c: EDGE c->d Weight 1\n",
       "d: EDGE d->e Weight 3\n",
       "e: EDGE e->f Weight 2\n",
       "f: EDGE f->g Weight 1\n",
       "g: EDGE g->h Weight 2\n",
       "h: "
      ]
     },
     "metadata": {},
     "execution_count": 10
    }
   ],
   "source": [
    "g"
   ]
  },
  {
   "source": [
    "Now we apply Dijkstra's bidirectional algorithm:"
   ],
   "cell_type": "markdown",
   "metadata": {}
  },
  {
   "cell_type": "code",
   "execution_count": 11,
   "metadata": {},
   "outputs": [],
   "source": [
    "d, drev = PREP(g)\n",
    "pathdist, dist, distrev = bidir_dijkstra(d, drev, g.get_vertex('a'), g.get_vertex('h'))"
   ]
  },
  {
   "cell_type": "code",
   "execution_count": 12,
   "metadata": {},
   "outputs": [
    {
     "output_type": "execute_result",
     "data": {
      "text/plain": [
       "12"
      ]
     },
     "metadata": {},
     "execution_count": 12
    }
   ],
   "source": [
    "pathdist"
   ]
  },
  {
   "source": [
    "As we can see, the result is correct just as we expected. Furthermore, by analyzing the dist and distrev dictionaries we can get a sense of the nodes that the algorithm looked at. "
   ],
   "cell_type": "markdown",
   "metadata": {}
  },
  {
   "cell_type": "code",
   "execution_count": 13,
   "metadata": {},
   "outputs": [
    {
     "output_type": "execute_result",
     "data": {
      "text/plain": [
       "{'a': 0, 'c': 3, 'e': 7}"
      ]
     },
     "metadata": {},
     "execution_count": 13
    }
   ],
   "source": [
    "dist"
   ]
  },
  {
   "cell_type": "code",
   "execution_count": 14,
   "metadata": {},
   "outputs": [
    {
     "output_type": "execute_result",
     "data": {
      "text/plain": [
       "{'h': 0, 'e': 5}"
      ]
     },
     "metadata": {},
     "execution_count": 14
    }
   ],
   "source": [
    "distrev"
   ]
  },
  {
   "source": [
    "As mentioned above, in the forward pass, the algorithm went from **a** directly to **c** and then directly to **e**. In the backward pass instead, the algorithm went from the destination directly to **e**. This tells us that the algorithm is indeed looking at a reduced number of nodes and thus is able to perform faster. Unfortunately however, in my implementation this comes at a cost of memory. In fact, as we can see, we have to create a graph which is much denser (the contraction hierarchy) as well as the reverse graph. However, since we assumed from the start that the entire graph fits in memory, this was not the main concern. "
   ],
   "cell_type": "markdown",
   "metadata": {}
  },
  {
   "source": [
    "Now we test on a more complicated graph such as the one shown below (all weights are set to 1). If we want the shortest path distance from **a** to **f**, it is clear that it will have a value of 4 and will have the following path: a -> d -> c -> h -> f. "
   ],
   "cell_type": "markdown",
   "metadata": {}
  },
  {
   "source": [
    "![Title](./es33.png)"
   ],
   "cell_type": "markdown",
   "metadata": {}
  },
  {
   "source": [
    "We create the graph"
   ],
   "cell_type": "markdown",
   "metadata": {}
  },
  {
   "cell_type": "code",
   "execution_count": 15,
   "metadata": {},
   "outputs": [],
   "source": [
    "g = Graph()\n",
    "g.add_vertex('a', 1)\n",
    "g.add_vertex('b', 3)\n",
    "g.add_vertex('c', 4)\n",
    "g.add_vertex('d', 2)\n",
    "g.add_vertex('e', 4)\n",
    "g.add_vertex('f', 3.5)\n",
    "g.add_vertex('g', 2)\n",
    "g.add_vertex('h', 1.5)\n",
    "\n",
    "g.add_edge('a', 'b', 1)\n",
    "g.add_edge('a', 'd', 1)\n",
    "g.add_edge('b', 'd', 1)\n",
    "g.add_edge('c', 'b', 1)\n",
    "g.add_edge('c', 'h', 1)\n",
    "g.add_edge('c', 'e', 1)\n",
    "g.add_edge('d', 'c', 1)\n",
    "g.add_edge('e', 'd', 1)\n",
    "g.add_edge('e', 'g', 1)\n",
    "g.add_edge('f', 'a', 1)\n",
    "g.add_edge('g', 'f', 1)\n",
    "g.add_edge('g', 'h', 1)\n",
    "g.add_edge('h', 'f', 1)"
   ]
  },
  {
   "source": [
    "We inspect its correctness:"
   ],
   "cell_type": "markdown",
   "metadata": {}
  },
  {
   "cell_type": "code",
   "execution_count": 16,
   "metadata": {},
   "outputs": [
    {
     "output_type": "execute_result",
     "data": {
      "text/plain": [
       "a: EDGE a->b Weight 1\tEDGE a->d Weight 1\n",
       "b: EDGE b->d Weight 1\n",
       "c: EDGE c->b Weight 1\tEDGE c->h Weight 1\tEDGE c->e Weight 1\n",
       "d: EDGE d->c Weight 1\n",
       "e: EDGE e->d Weight 1\tEDGE e->g Weight 1\n",
       "f: EDGE f->a Weight 1\n",
       "g: EDGE g->f Weight 1\tEDGE g->h Weight 1\n",
       "h: EDGE h->f Weight 1"
      ]
     },
     "metadata": {},
     "execution_count": 16
    }
   ],
   "source": [
    "g"
   ]
  },
  {
   "source": [
    "We can see that the graph is accurately represented.\n",
    "\n",
    "Now we apply Dijkstra's bidirectional algorithm. "
   ],
   "cell_type": "markdown",
   "metadata": {}
  },
  {
   "cell_type": "code",
   "execution_count": 17,
   "metadata": {},
   "outputs": [],
   "source": [
    "d, drev = PREP(g)\n",
    "pathdist, dist, distrev = bidir_dijkstra(d, drev, d.get_vertex('a'), d.get_vertex('f'))"
   ]
  },
  {
   "cell_type": "code",
   "execution_count": 18,
   "metadata": {},
   "outputs": [
    {
     "output_type": "execute_result",
     "data": {
      "text/plain": [
       "4"
      ]
     },
     "metadata": {},
     "execution_count": 18
    }
   ],
   "source": [
    "pathdist"
   ]
  },
  {
   "source": [
    "As expected, the shortest distance is indeed 4. However in this case, since we start from **a** the algorithm can go to any other node since they are all more important than **a**. This means that we can have some backtracking which is indeed the case as we can observe in the dist and distrev dictionaries:"
   ],
   "cell_type": "markdown",
   "metadata": {}
  },
  {
   "cell_type": "code",
   "execution_count": 19,
   "metadata": {},
   "outputs": [
    {
     "output_type": "execute_result",
     "data": {
      "text/plain": [
       "{'a': 0, 'b': 1, 'd': 1, 'c': 2}"
      ]
     },
     "metadata": {},
     "execution_count": 19
    }
   ],
   "source": [
    "dist"
   ]
  },
  {
   "source": [
    "We can see that in the forward pass the algorithm started from **a** then looked at **b**, then **d** and finally **c** by taking the shortcut which occurs if you eliminate **d** (which is why **c** has a distance of 2 even though all weights are set to 1)."
   ],
   "cell_type": "markdown",
   "metadata": {}
  },
  {
   "cell_type": "code",
   "execution_count": 20,
   "metadata": {},
   "outputs": [
    {
     "output_type": "execute_result",
     "data": {
      "text/plain": [
       "{'f': 0, 'c': 2, 'e': 2}"
      ]
     },
     "metadata": {},
     "execution_count": 20
    }
   ],
   "source": [
    "distrev"
   ]
  },
  {
   "source": [
    "On the other hand, in the backward pass, the algorithm started form the destination **f**, and went directly to **c** and then **e** which is useless for the path since the forward and backward pass meet at vertex **c**.\n",
    "This confirms that our algorithm is working properly as desired. In fact, the algorithm stops when the backward and forward pass have a common key in the dictionary keys. As soon as this happens, we are sure that the path is indeed the shortest one, as explained during class. "
   ],
   "cell_type": "markdown",
   "metadata": {}
  }
 ]
}