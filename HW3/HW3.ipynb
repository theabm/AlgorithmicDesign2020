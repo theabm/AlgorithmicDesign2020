{
 "metadata": {
  "language_info": {
   "codemirror_mode": {
    "name": "ipython",
    "version": 3
   },
   "file_extension": ".py",
   "mimetype": "text/x-python",
   "name": "python",
   "nbconvert_exporter": "python",
   "pygments_lexer": "ipython3",
   "version": "3.9.2"
  },
  "orig_nbformat": 2,
  "kernelspec": {
   "name": "python392jvsc74a57bd0468f25ad0239460415b7e6b7483d5c8f7213894121f6fb96c4cb6ef93fffe534",
   "display_name": "Python 3.9.2 64-bit"
  },
  "metadata": {
   "interpreter": {
    "hash": "468f25ad0239460415b7e6b7483d5c8f7213894121f6fb96c4cb6ef93fffe534"
   }
  }
 },
 "nbformat": 4,
 "nbformat_minor": 2,
 "cells": [
  {
   "source": [
    "# HOMEWORK BATCH 3 - Algorithmic Design A.A 2020-2021 \n",
    "## By: Andres Bermeo Marinelli\n",
    "### DSSC"
   ],
   "cell_type": "markdown",
   "metadata": {}
  },
  {
   "source": [
    "1) Implement the binary heap-based version of the Dijkstra’s algorithm.\n",
    "\n",
    "In order to implement the binary heap solution of Dijsktra's algorithm we make use of the implementation written in class called **binheap** which was modified to be able to handle this specific case. In particular the **min_order()** function is changed to compare the **key** of the vertices. Some other slight changes have also been applied in order to make the heap structure well suited to this problem (more details can be found in the binheap file where all changes are commented). We also import **inf** from math to be able to represent infinite keys (which will be useful later on) and **defaultdict** from collections which will provide us with a more versatile version of a dictionary which will be useful in some cases."
   ],
   "cell_type": "markdown",
   "metadata": {}
  },
  {
   "cell_type": "code",
   "execution_count": 1,
   "metadata": {},
   "outputs": [],
   "source": [
    "from binheap import binheap\n",
    "from math import inf\n",
    "from collections import defaultdict\n"
   ]
  },
  {
   "source": [
    "In this implementation of Dijkstra's algorithm we represent graphs as adjacency lists. In order to do so, we defined a **Vertex** class which is the basic building block of a graph structure. This class has an id, a key which is defaulted to infinity, a visited marker which will later tell us if this node has been visited and a prev attribute which will be used to tell us the predecessor of the node in order to be able to identify a path. Furthermore, it will have a heap_idx which is used to identify a node with the position it occupies in the heap. This will be useful later when we have to decrease a key in the binary heap.\n",
    "\n",
    "Further additional methods (getters and setters) have also been implemented.  "
   ],
   "cell_type": "markdown",
   "metadata": {}
  },
  {
   "cell_type": "code",
   "execution_count": 2,
   "metadata": {},
   "outputs": [],
   "source": [
    "class Vertex:  \n",
    "    def __init__(self, name, key = inf):\n",
    "        self.id = name                   \n",
    "        self.key = key\n",
    "        self.visited= False   #strictly used to see if node was visited in dijkstra's algorithm.\n",
    "        self.prev = self      #strictly used to memorize previous node in graph in dijkstras algorithm. \n",
    "        self.heap_idx = None  #strictly used to identify node with position in heap.\n",
    "\n",
    "    def set_key(self, key):\n",
    "        self.key = key\n",
    "\n",
    "    def get_key(self):\n",
    "        return self.key\n",
    "    \n",
    "    def __repr__(self):\n",
    "        return str(self.id)\n",
    "\n",
    "    def set_visited(self):\n",
    "        self.visited = True\n",
    "    \n",
    "    def set_prev(self, node):\n",
    "        self.prev = node\n",
    "    \n",
    "    def get_prev(self):\n",
    "        return self.prev\n"
   ]
  },
  {
   "source": [
    "Now, we implement the graph structure which essentially connects two vertices (or nodes) and assigns a weight to the edge between them. The graph has two attributes, a **vertex** dictionary which contains the vertices in the graph (the key of the dictionary is the vertex.id) and a **graph** dictionary which stores for each vertex the edges in the form of a list of tuples (destination vertex, weight). We add further utility methods such as adding a connection, getting the neighbors of a vertex, getting all the vertices, etc... \n"
   ],
   "cell_type": "markdown",
   "metadata": {}
  },
  {
   "cell_type": "code",
   "execution_count": 3,
   "metadata": {},
   "outputs": [],
   "source": [
    "class Graph:  #a graph is a union of vertices which are connected to each other in underlying ways\n",
    "    def __init__(self):\n",
    "        self.vertex = {}    #contains vertexes stored in graph\n",
    "        self.graph = {}     #dict of connections. \n",
    "    \n",
    "    def __repr__(self):\n",
    "        return str(self.graph)\n",
    "\n",
    "\n",
    "\n",
    "    def add_vertex(self, name, key=inf):\n",
    "        vertx = Vertex(name, key)\n",
    "        self.vertex[name]= vertx\n",
    "        self.graph[name]=[]\n",
    "    \n",
    "            \n",
    "    def add_connection(self, src, dest, weight):\n",
    "        if src not in self.graph.keys():\n",
    "            self.add_vertex(src)\n",
    "        if dest not in self.graph.keys():\n",
    "            self.add_vertex(dest)\n",
    "        self.graph[src].append((self.vertex[dest],weight)) #tuple of (vertex, weight)\n",
    "    \n",
    "    def get_neighbors(self, node):\n",
    "        if isinstance(node, Vertex):\n",
    "            return self.graph[node.id]\n",
    "        else:\n",
    "            return self.graph[node]\n",
    "\n",
    "    def get_vertices(self):\n",
    "        return self.vertex.values()\n",
    "\n",
    "    def get_vertex(self,node):\n",
    "        if isinstance(node, Vertex):\n",
    "            return self.vertex[node.id]\n",
    "        else:\n",
    "            return self.vertex[node]\n",
    "            \n",
    "    def set_key(self, node:Vertex, num:int):\n",
    "        return node.set_key(num)\n",
    "    "
   ]
  },
  {
   "source": [
    "Below we show an example of the initialization of a graph. One can avoid to use the *add_vertex()* functionality and directly define the edges. We build a graph which represents the figure below:\n"
   ],
   "cell_type": "markdown",
   "metadata": {}
  },
  {
   "source": [
    "![Title](./e1_1.png)\n",
    "\n",
    "\n"
   ],
   "cell_type": "markdown",
   "metadata": {}
  },
  {
   "cell_type": "code",
   "execution_count": 4,
   "metadata": {},
   "outputs": [],
   "source": [
    "g = Graph()"
   ]
  },
  {
   "source": [
    "g.add_connection('a', 'b', 1)\n",
    "g.add_connection('a', 'c', 4)\n",
    "g.add_connection('b', 'c', 2)\n",
    "g.add_connection('b', 'd', 6)\n",
    "g.add_connection('c', 'd', 3)\n",
    "\n"
   ],
   "cell_type": "code",
   "metadata": {},
   "execution_count": 5,
   "outputs": []
  },
  {
   "cell_type": "code",
   "execution_count": 6,
   "metadata": {},
   "outputs": [
    {
     "output_type": "execute_result",
     "data": {
      "text/plain": [
       "{'a': [(b, 1), (c, 4)], 'b': [(c, 2), (d, 6)], 'c': [(d, 3)], 'd': []}"
      ]
     },
     "metadata": {},
     "execution_count": 6
    }
   ],
   "source": [
    "g"
   ]
  },
  {
   "source": [
    "As we can see, the graph is correctly represented. For example, vertex **a** is connected to vertex **b** and **c** with weights 1 and 4 respectively.\n",
    "\n",
    "Now that we can correctly represent graphs, we implement Dijkstra's algorithm."
   ],
   "cell_type": "markdown",
   "metadata": {}
  },
  {
   "cell_type": "code",
   "execution_count": 7,
   "metadata": {},
   "outputs": [],
   "source": [
    "# an auxiliary function to get the shortest path. \n",
    "def path_getter(paths, src: Vertex):\n",
    "    newpaths = defaultdict(list)\n",
    "    for i in paths.keys():\n",
    "        tmp = paths[i]\n",
    "        newpaths[i].append(tmp.id)\n",
    "        while tmp is not src:\n",
    "            tmp = paths[tmp.id]\n",
    "            newpaths[i].append(tmp.id)\n",
    "    return newpaths"
   ]
  },
  {
   "cell_type": "code",
   "execution_count": 8,
   "metadata": {},
   "outputs": [],
   "source": [
    "def dijkstra(g, src):\n",
    "    dist = {}\n",
    "    paths = defaultdict(list)\n",
    "    g.get_vertex(src).set_key(0)\n",
    "    g.get_vertex(src).set_prev(g.get_vertex(src))  \n",
    "\n",
    "    BH = binheap(list(g.get_vertices()))\n",
    "\n",
    "    for num, node in enumerate(BH._A): #identify node with heap index\n",
    "        node.heap_idx = num\n",
    "\n",
    "    while not BH.is_empty():\n",
    "        node = BH.remove_minimum()       # remove min\n",
    "        node.set_visited()     \n",
    "\n",
    "        dist[node.id]=node.get_key()     \n",
    "        paths[node.id] = node.get_prev() \n",
    "        for i in g.get_neighbors(node.id):\n",
    "            if i[0].visited:             \n",
    "                continue\n",
    "            if dist[node.id]+i[1] < i[0].get_key(): \n",
    "                i[0].set_prev(g.get_vertex(node.id))\n",
    "                BH.decrease_key(i[0].heap_idx, dist[node.id]+i[1])\n",
    " \n",
    "    return dist, paths"
   ]
  },
  {
   "source": [
    "We now run the algorithm on the graph shown above. We expect that the shortest path from a is as follows:   \n",
    "\n",
    "* **a**: 0 (source node)\n",
    "* **b**: 1, a->b\n",
    "* **c**: 3, a->b->c\n",
    "* **d**: 6, a->b->c->d"
   ],
   "cell_type": "markdown",
   "metadata": {}
  },
  {
   "cell_type": "code",
   "execution_count": 9,
   "metadata": {},
   "outputs": [
    {
     "output_type": "stream",
     "name": "stdout",
     "text": [
      "{'a': 0, 'b': 1, 'c': 3, 'd': 6}\n\n\ndefaultdict(<class 'list'>, {'a': ['a'], 'b': ['a'], 'c': ['b', 'a'], 'd': ['c', 'b', 'a']})\n"
     ]
    }
   ],
   "source": [
    "dist, paths = dijkstra(g,'a')\n",
    "newp = path_getter(paths,g.get_vertex('a'))  # get paths out of dict of previous nodes for each node.\n",
    "print(dist)\n",
    "print('\\n')\n",
    "print(newp)"
   ]
  },
  {
   "source": [
    "We note that the paths dictionary must be read from right to left. In other words, for key **d** we read the elements in the list as \"a -> b -> c -> d\" which is as expected. As we can see, both the result of the shortest distances and paths are correct.\n",
    "\n",
    "We now try to run the algorithm on a slightly more complicated example."
   ],
   "cell_type": "markdown",
   "metadata": {}
  },
  {
   "source": [
    "![Title](./es22.png)\n"
   ],
   "cell_type": "markdown",
   "metadata": {}
  },
  {
   "source": [
    "By setting the source **a**, we expect the following:\n",
    "\n",
    "* **a**: 0, (source)\n",
    "* **b**: 4,  a -> b\n",
    "* **c**: 9,  a -> c\n",
    "* **d**: 19, a -> b -> d\n",
    "* **e**: 25, a -> b -> d -> e\n",
    "* **f**: 11, a -> c -> f"
   ],
   "cell_type": "markdown",
   "metadata": {}
  },
  {
   "cell_type": "code",
   "execution_count": 10,
   "metadata": {},
   "outputs": [],
   "source": [
    "d = Graph()"
   ]
  },
  {
   "cell_type": "code",
   "execution_count": 11,
   "metadata": {},
   "outputs": [],
   "source": [
    "d.add_connection('a', 'b', 4)  \n",
    "d.add_connection('a', 'c', 9)\n",
    "d.add_connection('a', 'f', 14)\n",
    "d.add_connection('b', 'c', 10)\n",
    "d.add_connection('b', 'd', 15)\n",
    "d.add_connection('c', 'd', 11)\n",
    "d.add_connection('c', 'f', 2)\n",
    "d.add_connection('d', 'e', 6)\n",
    "d.add_connection('e', 'f', 9)"
   ]
  },
  {
   "cell_type": "code",
   "execution_count": 12,
   "metadata": {},
   "outputs": [
    {
     "output_type": "stream",
     "name": "stdout",
     "text": [
      "{'a': 0, 'b': 4, 'c': 9, 'f': 11, 'd': 19, 'e': 25}\n\n\ndefaultdict(<class 'list'>, {'a': ['a'], 'b': ['a'], 'c': ['a'], 'f': ['c', 'a'], 'd': ['b', 'a'], 'e': ['d', 'b', 'a']})\n"
     ]
    }
   ],
   "source": [
    "dist, paths = dijkstra(d,'a')\n",
    "newp = path_getter(paths,d.get_vertex('a')) \n",
    "print(dist)\n",
    "print('\\n')\n",
    "print(newp)"
   ]
  },
  {
   "source": [
    "As we can see, the results are correct. \n",
    "\n",
    "In the algorithm itself, we build the heap at the beginning which has $\\Theta(|V|)$ complexity. Then, at each iteration of the while loop we extract a node in $O(\\log|V|)$ time and operate on the adjacency list of the extracted node to update each key in $O(\\log|V|)$ complexity. This means that we have a complexity of $|V|O(\\log|V|)+ |E|O(\\log|V|)$. Furthermore, we have a few assignment operations which are $\\Theta(1)$. Adding all the contributions gives a complexity $O((|V|+|E|))\\log|V|)$ as expected."
   ],
   "cell_type": "markdown",
   "metadata": {}
  },
  {
   "source": [],
   "cell_type": "markdown",
   "metadata": {}
  }
 ]
}